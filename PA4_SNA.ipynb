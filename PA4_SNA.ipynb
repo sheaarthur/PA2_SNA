{
 "cells": [
  {
   "cell_type": "markdown",
   "id": "ddb3d909",
   "metadata": {},
   "source": [
    "# Assignment 3\n",
    "## Shealyn Arthur  Version 1\n",
    "### 2023 SP CS-150-01"
   ]
  },
  {
   "cell_type": "markdown",
   "id": "65006e92",
   "metadata": {},
   "source": [
    "# A)"
   ]
  },
  {
   "cell_type": "markdown",
   "id": "6e433fa6",
   "metadata": {},
   "source": [
    "##### i.  append() is a function where it adds a single element onto the end of tbe list."
   ]
  },
  {
   "cell_type": "code",
   "execution_count": 12,
   "id": "2e5494d7",
   "metadata": {},
   "outputs": [],
   "source": [
    "friends=['Bailey', 'Kaleb', 'Logan', 'Noah']"
   ]
  },
  {
   "cell_type": "code",
   "execution_count": 13,
   "id": "8f9a9463",
   "metadata": {},
   "outputs": [],
   "source": [
    "friends.append('Brennan')"
   ]
  },
  {
   "cell_type": "code",
   "execution_count": 14,
   "id": "48e2ebf5",
   "metadata": {},
   "outputs": [
    {
     "data": {
      "text/plain": [
       "['Bailey', 'Kaleb', 'Logan', 'Noah', 'Brennan']"
      ]
     },
     "execution_count": 14,
     "metadata": {},
     "output_type": "execute_result"
    }
   ],
   "source": [
    "friends"
   ]
  },
  {
   "cell_type": "markdown",
   "id": "0906d60e",
   "metadata": {},
   "source": [
    "##### ii. extend() is a function where it adds multiple elements onto the end of a list."
   ]
  },
  {
   "cell_type": "code",
   "execution_count": 15,
   "id": "1d158a87",
   "metadata": {},
   "outputs": [],
   "source": [
    "new_friends=['Jackson', 'Andrew']"
   ]
  },
  {
   "cell_type": "code",
   "execution_count": 16,
   "id": "d8bd67fd",
   "metadata": {},
   "outputs": [
    {
     "name": "stdout",
     "output_type": "stream",
     "text": [
      "['Bailey', 'Kaleb', 'Logan', 'Noah', 'Brennan', 'Jackson', 'Andrew']\n"
     ]
    }
   ],
   "source": [
    "friends.extend(new_friends)\n",
    "print(friends)"
   ]
  },
  {
   "cell_type": "markdown",
   "id": "6ed9aa81",
   "metadata": {},
   "source": [
    "##### iii.  insert() is a function where you can choose an index and insert that element at that index, pushing everything else back."
   ]
  },
  {
   "cell_type": "code",
   "execution_count": 17,
   "id": "12a49ec3",
   "metadata": {},
   "outputs": [
    {
     "name": "stdout",
     "output_type": "stream",
     "text": [
      "['Bailey', 'Kaleb', 'Logan', 'Noah', 'Allie', 'Brennan', 'Jackson', 'Andrew']\n"
     ]
    }
   ],
   "source": [
    "friends.insert(4, 'Allie')\n",
    "print(friends)"
   ]
  },
  {
   "cell_type": "markdown",
   "id": "f60bdc14",
   "metadata": {},
   "source": [
    "##### iv. remove() is a function where you remove an element by its name."
   ]
  },
  {
   "cell_type": "code",
   "execution_count": 18,
   "id": "59132ea8",
   "metadata": {},
   "outputs": [
    {
     "data": {
      "text/plain": [
       "['Bailey', 'Kaleb', 'Logan', 'Noah', 'Allie', 'Brennan', 'Jackson', 'Andrew']"
      ]
     },
     "execution_count": 18,
     "metadata": {},
     "output_type": "execute_result"
    }
   ],
   "source": [
    "friends"
   ]
  },
  {
   "cell_type": "code",
   "execution_count": 19,
   "id": "3e2cf517",
   "metadata": {},
   "outputs": [
    {
     "name": "stdout",
     "output_type": "stream",
     "text": [
      "['Bailey', 'Kaleb', 'Logan', 'Noah', 'Brennan', 'Jackson', 'Andrew']\n"
     ]
    }
   ],
   "source": [
    "friends.remove('Allie')\n",
    "print(friends)"
   ]
  },
  {
   "cell_type": "code",
   "execution_count": 20,
   "id": "91be2c25",
   "metadata": {},
   "outputs": [],
   "source": [
    "friends.remove('Kaleb')"
   ]
  },
  {
   "cell_type": "code",
   "execution_count": 21,
   "id": "21efe4eb",
   "metadata": {},
   "outputs": [
    {
     "name": "stdout",
     "output_type": "stream",
     "text": [
      "['Bailey', 'Logan', 'Noah', 'Brennan', 'Jackson', 'Andrew']\n"
     ]
    }
   ],
   "source": [
    "print(friends)"
   ]
  },
  {
   "cell_type": "markdown",
   "id": "b1937d75",
   "metadata": {},
   "source": [
    "#####  v. count() is a function that counts how many times that element in the the string or list."
   ]
  },
  {
   "cell_type": "code",
   "execution_count": 22,
   "id": "acd26e85",
   "metadata": {},
   "outputs": [
    {
     "name": "stdout",
     "output_type": "stream",
     "text": [
      "['Bailey', 'Logan', 'Noah', 'Brennan', 'Jackson', 'Andrew', 'Andrew']\n"
     ]
    }
   ],
   "source": [
    "friends.append('Andrew')\n",
    "print(friends)"
   ]
  },
  {
   "cell_type": "code",
   "execution_count": 23,
   "id": "733638d2",
   "metadata": {},
   "outputs": [
    {
     "data": {
      "text/plain": [
       "2"
      ]
     },
     "execution_count": 23,
     "metadata": {},
     "output_type": "execute_result"
    }
   ],
   "source": [
    "friends.count('Andrew')"
   ]
  },
  {
   "cell_type": "code",
   "execution_count": 24,
   "id": "7c3abe59",
   "metadata": {},
   "outputs": [
    {
     "data": {
      "text/plain": [
       "1"
      ]
     },
     "execution_count": 24,
     "metadata": {},
     "output_type": "execute_result"
    }
   ],
   "source": [
    "friends.count('Bailey')"
   ]
  },
  {
   "cell_type": "markdown",
   "id": "eb74cc5e",
   "metadata": {},
   "source": [
    "##### vi.  index() is a function that shows where the element is located within the list, starting at 0. "
   ]
  },
  {
   "cell_type": "code",
   "execution_count": 25,
   "id": "fc8a54cd",
   "metadata": {},
   "outputs": [
    {
     "data": {
      "text/plain": [
       "3"
      ]
     },
     "execution_count": 25,
     "metadata": {},
     "output_type": "execute_result"
    }
   ],
   "source": [
    "friends.index('Brennan')"
   ]
  },
  {
   "cell_type": "markdown",
   "id": "eb379d3f",
   "metadata": {},
   "source": [
    "##### vii. pop() is a function that removes elements based on their index value. "
   ]
  },
  {
   "cell_type": "code",
   "execution_count": 26,
   "id": "84aaa1c7",
   "metadata": {},
   "outputs": [
    {
     "data": {
      "text/plain": [
       "['Bailey', 'Logan', 'Noah', 'Brennan', 'Jackson', 'Andrew', 'Andrew']"
      ]
     },
     "execution_count": 26,
     "metadata": {},
     "output_type": "execute_result"
    }
   ],
   "source": [
    "friends"
   ]
  },
  {
   "cell_type": "code",
   "execution_count": 27,
   "id": "5856fb59",
   "metadata": {},
   "outputs": [
    {
     "data": {
      "text/plain": [
       "'Andrew'"
      ]
     },
     "execution_count": 27,
     "metadata": {},
     "output_type": "execute_result"
    }
   ],
   "source": [
    "friends.pop(5)"
   ]
  },
  {
   "cell_type": "code",
   "execution_count": 28,
   "id": "4dfccbd6",
   "metadata": {},
   "outputs": [
    {
     "data": {
      "text/plain": [
       "['Bailey', 'Logan', 'Noah', 'Brennan', 'Jackson', 'Andrew']"
      ]
     },
     "execution_count": 28,
     "metadata": {},
     "output_type": "execute_result"
    }
   ],
   "source": [
    "friends"
   ]
  },
  {
   "cell_type": "code",
   "execution_count": 29,
   "id": "e59f7cf8",
   "metadata": {},
   "outputs": [
    {
     "data": {
      "text/plain": [
       "'Logan'"
      ]
     },
     "execution_count": 29,
     "metadata": {},
     "output_type": "execute_result"
    }
   ],
   "source": [
    "friends.pop(1)"
   ]
  },
  {
   "cell_type": "code",
   "execution_count": 30,
   "id": "99c968d7",
   "metadata": {},
   "outputs": [
    {
     "data": {
      "text/plain": [
       "'Noah'"
      ]
     },
     "execution_count": 30,
     "metadata": {},
     "output_type": "execute_result"
    }
   ],
   "source": [
    "friends.pop(1)"
   ]
  },
  {
   "cell_type": "code",
   "execution_count": 31,
   "id": "85e3eee8",
   "metadata": {},
   "outputs": [
    {
     "data": {
      "text/plain": [
       "['Bailey', 'Brennan', 'Jackson', 'Andrew']"
      ]
     },
     "execution_count": 31,
     "metadata": {},
     "output_type": "execute_result"
    }
   ],
   "source": [
    "friends"
   ]
  },
  {
   "cell_type": "markdown",
   "id": "3b418506",
   "metadata": {},
   "source": [
    "##### viii. sorted() is a function that temporarily sorts the items within the list"
   ]
  },
  {
   "cell_type": "code",
   "execution_count": 33,
   "id": "90502647",
   "metadata": {},
   "outputs": [
    {
     "data": {
      "text/plain": [
       "['Andrew', 'Bailey', 'Brennan', 'Jackson']"
      ]
     },
     "execution_count": 33,
     "metadata": {},
     "output_type": "execute_result"
    }
   ],
   "source": [
    "sorted(friends)"
   ]
  },
  {
   "cell_type": "markdown",
   "id": "228e7fbe",
   "metadata": {},
   "source": [
    "##### ix. copy() is a function that you can assign another variable the same list of elements"
   ]
  },
  {
   "cell_type": "code",
   "execution_count": 37,
   "id": "e8529616",
   "metadata": {},
   "outputs": [],
   "source": [
    "bell_friends=friends.copy()"
   ]
  },
  {
   "cell_type": "code",
   "execution_count": 38,
   "id": "0138f028",
   "metadata": {},
   "outputs": [
    {
     "name": "stdout",
     "output_type": "stream",
     "text": [
      "['Bailey', 'Brennan', 'Jackson', 'Andrew']\n"
     ]
    }
   ],
   "source": [
    "print(bell_friends)"
   ]
  },
  {
   "cell_type": "markdown",
   "id": "7e81e5d8",
   "metadata": {},
   "source": [
    "##### x. clear() is a function that clears all elements from the list"
   ]
  },
  {
   "cell_type": "code",
   "execution_count": 39,
   "id": "d048bbcb",
   "metadata": {},
   "outputs": [
    {
     "data": {
      "text/plain": [
       "['Bailey', 'Brennan', 'Jackson', 'Andrew']"
      ]
     },
     "execution_count": 39,
     "metadata": {},
     "output_type": "execute_result"
    }
   ],
   "source": [
    "friends"
   ]
  },
  {
   "cell_type": "code",
   "execution_count": 40,
   "id": "fa2f98eb",
   "metadata": {},
   "outputs": [],
   "source": [
    "friends.clear()"
   ]
  },
  {
   "cell_type": "code",
   "execution_count": 41,
   "id": "e9e5fd8f",
   "metadata": {},
   "outputs": [
    {
     "data": {
      "text/plain": [
       "[]"
      ]
     },
     "execution_count": 41,
     "metadata": {},
     "output_type": "execute_result"
    }
   ],
   "source": [
    "friends"
   ]
  },
  {
   "cell_type": "markdown",
   "id": "2dbead77",
   "metadata": {},
   "source": [
    "##### xi. list() is a function that creates a list of elements and attaches them all to one variable"
   ]
  },
  {
   "cell_type": "code",
   "execution_count": 42,
   "id": "09efe16c",
   "metadata": {},
   "outputs": [],
   "source": [
    "numbers=list()"
   ]
  },
  {
   "cell_type": "code",
   "execution_count": 43,
   "id": "9ff774b5",
   "metadata": {},
   "outputs": [],
   "source": [
    "numbers.append(26)"
   ]
  },
  {
   "cell_type": "code",
   "execution_count": 44,
   "id": "8532b98e",
   "metadata": {},
   "outputs": [],
   "source": [
    "numbers.append(42)"
   ]
  },
  {
   "cell_type": "code",
   "execution_count": 45,
   "id": "f2ac434e",
   "metadata": {},
   "outputs": [],
   "source": [
    "numbers.append(3)"
   ]
  },
  {
   "cell_type": "code",
   "execution_count": 46,
   "id": "cea0a0b2",
   "metadata": {},
   "outputs": [
    {
     "data": {
      "text/plain": [
       "[26, 42, 3]"
      ]
     },
     "execution_count": 46,
     "metadata": {},
     "output_type": "execute_result"
    }
   ],
   "source": [
    "numbers"
   ]
  },
  {
   "cell_type": "markdown",
   "id": "06003215",
   "metadata": {},
   "source": [
    "## B)"
   ]
  },
  {
   "cell_type": "code",
   "execution_count": 47,
   "id": "a1f23837",
   "metadata": {},
   "outputs": [],
   "source": [
    "friends=['Bailey', 'Kaleb', 'Logan', 'Noah', 'Brennan', 'Jackson']"
   ]
  },
  {
   "cell_type": "markdown",
   "id": "1c43f551",
   "metadata": {},
   "source": [
    "##### i.  len() is a function that counts the numbers of elements within the list"
   ]
  },
  {
   "cell_type": "code",
   "execution_count": 48,
   "id": "5c9b2baa",
   "metadata": {},
   "outputs": [
    {
     "data": {
      "text/plain": [
       "6"
      ]
     },
     "execution_count": 48,
     "metadata": {},
     "output_type": "execute_result"
    }
   ],
   "source": [
    "len(friends)"
   ]
  },
  {
   "cell_type": "markdown",
   "id": "18b317d6",
   "metadata": {},
   "source": [
    "##### ii. max() is a function that tells us which element is the highest or max. "
   ]
  },
  {
   "cell_type": "code",
   "execution_count": 49,
   "id": "dad32210",
   "metadata": {},
   "outputs": [
    {
     "data": {
      "text/plain": [
       "'Noah'"
      ]
     },
     "execution_count": 49,
     "metadata": {},
     "output_type": "execute_result"
    }
   ],
   "source": [
    "max(friends)"
   ]
  },
  {
   "cell_type": "markdown",
   "id": "eb3b02ab",
   "metadata": {},
   "source": [
    "##### iii. min() is a function that tells us which element is the lowest or the min."
   ]
  },
  {
   "cell_type": "code",
   "execution_count": 50,
   "id": "c56bad71",
   "metadata": {},
   "outputs": [
    {
     "data": {
      "text/plain": [
       "'Bailey'"
      ]
     },
     "execution_count": 50,
     "metadata": {},
     "output_type": "execute_result"
    }
   ],
   "source": [
    "min(friends)"
   ]
  }
 ],
 "metadata": {
  "kernelspec": {
   "display_name": "Python 3 (ipykernel)",
   "language": "python",
   "name": "python3"
  },
  "language_info": {
   "codemirror_mode": {
    "name": "ipython",
    "version": 3
   },
   "file_extension": ".py",
   "mimetype": "text/x-python",
   "name": "python",
   "nbconvert_exporter": "python",
   "pygments_lexer": "ipython3",
   "version": "3.9.13"
  }
 },
 "nbformat": 4,
 "nbformat_minor": 5
}
